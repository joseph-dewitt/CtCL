{
 "cells": [
  {
   "cell_type": "code",
   "execution_count": 9,
   "metadata": {},
   "outputs": [
    {
     "name": "stdout",
     "output_type": "stream",
     "text": [
      "4\n",
      "5\n",
      "End of linked list.\n",
      "4\n",
      "5\n",
      "6\n",
      "End of linked list.\n"
     ]
    }
   ],
   "source": [
    "from ctypes import *\n",
    "\n",
    "class Node(Structure):\n",
    "    def append(self,i):\n",
    "        end = Node()\n",
    "        end.data = c_int(i)\n",
    "        n = self\n",
    "        try:\n",
    "            while True:\n",
    "                n = n.next.contents\n",
    "        except ValueError:\n",
    "            n.next = POINTER(Node)(end)\n",
    "    def print_all(self):\n",
    "        n = self\n",
    "        try:\n",
    "            while True:\n",
    "                print(n.data)\n",
    "                n = n.next.contents\n",
    "        except ValueError:\n",
    "            print(\"End of linked list.\")\n",
    "Node._fields_ = [(\"data\", c_int), (\"next\", POINTER(Node))]\n",
    "\n",
    "\n",
    "head = Node()\n",
    "head.data = c_int(4)\n",
    "head.next = POINTER(Node)(Node())\n",
    "head.next.contents.data = c_int(5)\n",
    "head.print_all()\n",
    "head.append(6)\n",
    "head.print_all()"
   ]
  },
  {
   "cell_type": "code",
   "execution_count": 11,
   "metadata": {},
   "outputs": [
    {
     "name": "stdout",
     "output_type": "stream",
     "text": [
      "<__main__.Node object at 0x000001BA85C3F248>\n",
      "<__main__.LP_Node object at 0x000001BA85C3F2C8>\n"
     ]
    }
   ],
   "source": []
  },
  {
   "cell_type": "code",
   "execution_count": null,
   "metadata": {},
   "outputs": [],
   "source": []
  }
 ],
 "metadata": {
  "kernelspec": {
   "display_name": "Python 3",
   "language": "python",
   "name": "python3"
  },
  "language_info": {
   "codemirror_mode": {
    "name": "ipython",
    "version": 3
   },
   "file_extension": ".py",
   "mimetype": "text/x-python",
   "name": "python",
   "nbconvert_exporter": "python",
   "pygments_lexer": "ipython3",
   "version": "3.7.6"
  }
 },
 "nbformat": 4,
 "nbformat_minor": 4
}
