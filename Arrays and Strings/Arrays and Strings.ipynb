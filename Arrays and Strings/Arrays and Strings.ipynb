{
 "cells": [
  {
   "cell_type": "markdown",
   "metadata": {},
   "source": [
    "1.1 Implement an algorithm to determine if a string has all unique characters. What if you cannot use additional data structures?\n",
    "\n",
    "First part, create a set while iterating through the string, and return False if character is already in the set.\n",
    "\n",
    "Second part, iterate over the string, and for each character iterate over the rest of the string checking for equality."
   ]
  },
  {
   "cell_type": "code",
   "execution_count": 1,
   "metadata": {},
   "outputs": [
    {
     "name": "stdout",
     "output_type": "stream",
     "text": [
      "True\n",
      "False\n",
      "True\n",
      "False\n"
     ]
    }
   ],
   "source": [
    "def all_unique(my_string):\n",
    "    my_set = set()\n",
    "    for i in my_string:\n",
    "        if i in my_set:\n",
    "            return False\n",
    "        else:\n",
    "            my_set.add(i)\n",
    "    return True\n",
    "\n",
    "print(all_unique('tar'))\n",
    "print(all_unique('rar'))\n",
    "\n",
    "def all_unique_save_space(my_string):\n",
    "    for i,c in enumerate(my_string):\n",
    "        for j,k in enumerate(my_string[i+1:]):\n",
    "            if c == k:\n",
    "                return False\n",
    "    else:\n",
    "        return True\n",
    "\n",
    "    \n",
    "print(all_unique_save_space('combine'))\n",
    "print(all_unique_save_space('concubine'))"
   ]
  },
  {
   "cell_type": "markdown",
   "metadata": {},
   "source": [
    "1.2 Given two strings, write a method to decide if one is a permutation of the other.\n",
    "\n",
    "Convert the strings to dicts of each character to its count, then compare the two dicts."
   ]
  },
  {
   "cell_type": "code",
   "execution_count": 2,
   "metadata": {},
   "outputs": [
    {
     "data": {
      "text/plain": [
       "True"
      ]
     },
     "execution_count": 2,
     "metadata": {},
     "output_type": "execute_result"
    }
   ],
   "source": [
    "def char_counts(str):\n",
    "        counts = {}\n",
    "        for c in str:\n",
    "            if c in counts:\n",
    "                counts[c] += 1\n",
    "            else:\n",
    "                counts[c] = 1\n",
    "        return counts\n",
    "\n",
    "def permutation_by_dicts(str1, str2):\n",
    "    return char_counts(str1) == char_counts(str2)\n",
    "\n",
    "permutation_by_dicts('monkeybar', 'barmonkey')"
   ]
  },
  {
   "cell_type": "markdown",
   "metadata": {},
   "source": [
    "1.3 Write a method to replace all spaces in a string with '%20'. You may assume that the string has a sufficient space at the end to hold the additional characters, and that you are given the \"true\" length of the string."
   ]
  },
  {
   "cell_type": "code",
   "execution_count": 3,
   "metadata": {},
   "outputs": [
    {
     "name": "stdout",
     "output_type": "stream",
     "text": [
      "Mr%20John%20Smith\n"
     ]
    }
   ],
   "source": [
    "def URLify(my_string):\n",
    "    return my_string.replace(' ', '%20')\n",
    "\n",
    "print(URLify('Mr John Smith'))"
   ]
  },
  {
   "cell_type": "markdown",
   "metadata": {},
   "source": [
    "1.4 Given a string, write a function to check if it is a permutation of a palidrome. A palindrome is a word or phrase that is the same forwards and backwards. A permutation is a rearrangement of letters. The palidrome does not need to be limited to just dictionary words.\n",
    "\n",
    "Ignore spaces. All characters, or all but one, must appear an even number of times."
   ]
  },
  {
   "cell_type": "code",
   "execution_count": 4,
   "metadata": {},
   "outputs": [
    {
     "name": "stdout",
     "output_type": "stream",
     "text": [
      "False\n",
      "True\n",
      "True\n",
      "False\n",
      "True\n"
     ]
    }
   ],
   "source": [
    "def palindrome(my_string):\n",
    "    counts = char_counts(my_string)\n",
    "    odd = False\n",
    "    for c,n in counts.items():\n",
    "        if not c.isalnum():\n",
    "            continue\n",
    "        if n % 2 == 1:\n",
    "            if odd:\n",
    "                return False\n",
    "            else:\n",
    "                odd = True\n",
    "    return True\n",
    "\n",
    "print(palindrome('bunker'))\n",
    "print(palindrome('taco cat'))\n",
    "print(palindrome(\"go hang a salami, i'm a lasagna hog!\"))\n",
    "print(palindrome('Life, which you so nobley serve'))\n",
    "print(palindrome('too hot to hoot!'))"
   ]
  },
  {
   "cell_type": "markdown",
   "metadata": {},
   "source": [
    "1.5 There are three types of edits that can be performed on strings: insert a character, remove a character, or replace a character. Given two strings, write a function to check if they are one edit (or zero edits) away from each other."
   ]
  },
  {
   "cell_type": "code",
   "execution_count": 5,
   "metadata": {},
   "outputs": [],
   "source": [
    "from collections import namedtuple\n",
    "import pprint as pp\n",
    "import pdb\n",
    "\n",
    "def one_edit(str1, str2):\n",
    "    if abs(len(str1) - len(str2)) > 1:\n",
    "        return False\n",
    "    Option = namedtuple('Option', 'same plus_one minus_one')\n",
    "    options = []\n",
    "    for i,c in enumerate(str1):\n",
    "        try:\n",
    "            same = c == str2[i]\n",
    "        except IndexError:\n",
    "            same = None\n",
    "        if i > 0:\n",
    "            try:\n",
    "                plus_one = c == str2[i-1]\n",
    "            except IndexError:\n",
    "                plus_one = None\n",
    "        else:\n",
    "            plus_one = None\n",
    "        try:\n",
    "            minus_one = c == str2[i+1]\n",
    "        except IndexError:\n",
    "            minus_one = None\n",
    "        options.append(Option(same, plus_one, minus_one))\n",
    "    pp.pprint(options)\n",
    "    count = 0\n",
    "    results = []\n",
    "    for x in options:\n",
    "        if x.same or x.plus_one or x.minus_one:\n",
    "            results.append(x)\n",
    "        else:\n",
    "            count += 1\n",
    "        if count > 1:\n",
    "            return False\n",
    "    \n",
    "    if all((x.same or x.plus_one or x.minus_one) for x in results):\n",
    "        print(\"Winner winner chicken dinner\")\n",
    "    \n",
    "    return results\n",
    "        \n",
    "    \n",
    "    def one_replace(str1, str2):\n",
    "        diff = 0\n",
    "        for a,b in zip(str1, str2):\n",
    "            if a is not b:\n",
    "                diff += 1\n",
    "            if diff > 1:\n",
    "                return False\n",
    "        return True\n",
    "\n",
    "\n",
    "\n",
    "# print('Comparing \"atatatat\" to \"tatatatat\" \\n')\n",
    "# pp.pprint(one_edit('atatatat', 'tatatatat'))\n",
    "# print('\\n')\n",
    "# print('Comparing \"tacocat\" to \"taco cat\" \\n')\n",
    "# pp.pprint(one_edit('tacocat', 'taco cat'))\n",
    "# print('\\n')\n",
    "# print(\"Comparing 'taco cat' to 'taco bat' \\n\")\n",
    "# pp.pprint(one_edit('taco cat', 'taco bat'))\n",
    "# print('\\n')\n",
    "# print(\"Comparing 'taco cat' to 'tocarat' \\n\")\n",
    "# pp.pprint(one_edit('taco cat', 'tocarat'))\n",
    "# print('\\n')\n",
    "# print(\"Comparing 'taacoooo' to 'taaacoooo' \\n\")\n",
    "# pp.pprint(one_edit('taacoooo', 'taaacoooo'))\n",
    "# print('\\n')\n",
    "# print(\"Comparing 'staacoooo' to 'taaacoooos' \\n\")\n",
    "# pp.pprint(one_edit('staacoooo', 'taaacoooos'))\n",
    "# print(one_edit('taacoooo', 'ttaaacoooo'))\n",
    "# print(one_edit('aabaacaat', 'abaacaat'))"
   ]
  },
  {
   "cell_type": "markdown",
   "metadata": {},
   "source": [
    "The mistake in the previous attempt was two-fold. One, the logic should have been kept divided; a method for checking replacement, and a method for checking insertion, and a method for checking removal. Second, there are simple conditions to lead to each possibility that were ignored; the string lengths are either the same, or have a difference of one.\n",
    "\n",
    "Being able to match string A to string B by adding a character to A is the same as matching them by removing a character from B."
   ]
  },
  {
   "cell_type": "code",
   "execution_count": 6,
   "metadata": {},
   "outputs": [
    {
     "name": "stdout",
     "output_type": "stream",
     "text": [
      "Comparing 'abcdef' to 'abcdef'\n",
      "These strings are identical\n",
      "Could one edit let these strings match?\n",
      "True\n",
      "\n",
      "\n",
      "Comparing 'abcdef' to 'taco'\n",
      "These strings are completely different\n",
      "Could one edit let these strings match?\n",
      "False\n",
      "\n",
      "\n",
      "Comparing 'abcdef' to 'bbcdef'\n",
      "These strings have one letter different\n",
      "Could one edit let these strings match?\n",
      "True\n",
      "\n",
      "\n",
      "Comparing 'abcdeff' to 'bbcdefg'\n",
      "The first has an extra letter on the end, and the second has an extra at the beginning\n",
      "Could one edit let these strings match?\n",
      "False\n",
      "\n",
      "\n",
      "Comparing 'abcdef' to 'abcdefg'\n",
      "The second string has one extra letter\n",
      "Could one edit let these strings match?\n",
      "True\n",
      "\n",
      "\n",
      "Comparing 'abcdef' to 'abcdefgh'\n",
      "The second string has two extra letters\n",
      "Could one edit let these strings match?\n",
      "False\n",
      "\n",
      "\n",
      "Comparing 'abcdefgh' to 'abcfgh'\n",
      "The second string is missing two letters\n",
      "Could one edit let these strings match?\n",
      "False\n",
      "\n",
      "\n",
      "Comparing 'taaaccooo' to 'taaacooo'\n",
      "The second string is missing one letter\n",
      "Could one edit let these strings match?\n",
      "True\n",
      "\n",
      "\n",
      "Comparing '' to 'a'\n",
      "The first string is empty, the second has one letter\n",
      "Could one edit let these strings match?\n",
      "True\n",
      "\n",
      "\n"
     ]
    }
   ],
   "source": [
    "def by_replace(str1, str2):\n",
    "    differences = 0\n",
    "    for a,b in zip(str1, str2):\n",
    "        if a is not b:\n",
    "            differences += 1\n",
    "    return differences <= 1\n",
    "\n",
    "def by_remove(str1, str2):\n",
    "    removals = 0\n",
    "    for i,c in enumerate(str1):\n",
    "        if c != str2[i]:\n",
    "            if removals == 0:\n",
    "                removals += 1\n",
    "                str2 = str2.replace(str2[i], '', 1)\n",
    "                if c != str2[i]:\n",
    "                    return False\n",
    "            else:\n",
    "                return False\n",
    "    return True\n",
    "\n",
    "def one_edit_away(str1, str2):\n",
    "    if len(str1) == len(str2):\n",
    "        return by_replace(str1, str2)\n",
    "    if len(str2) == len(str1) + 1:\n",
    "        return by_remove(str1, str2)\n",
    "    if len(str1) == len(str2) + 1:\n",
    "        return by_remove(str2, str1)\n",
    "    return False\n",
    "\n",
    "\n",
    "print(\"Comparing 'abcdef' to 'abcdef'\")\n",
    "print('These strings are identical')\n",
    "print('Could one edit let these strings match?')\n",
    "print(one_edit_away('abcdef', 'abcdef'))\n",
    "print('\\n')\n",
    "\n",
    "print(\"Comparing 'abcdef' to 'taco'\")\n",
    "print('These strings are completely different')\n",
    "print('Could one edit let these strings match?')\n",
    "print(one_edit('abcdef', 'taco'))\n",
    "print('\\n')\n",
    "\n",
    "print(\"Comparing 'abcdef' to 'bbcdef'\")\n",
    "print('These strings have one letter different')\n",
    "print('Could one edit let these strings match?')\n",
    "print(one_edit_away('abcdef', 'bbcdef'))\n",
    "print('\\n')\n",
    "\n",
    "print(\"Comparing 'abcdeff' to 'bbcdefg'\")\n",
    "print('The first has an extra letter on the end, and the second has an extra at the beginning')\n",
    "print('Could one edit let these strings match?')\n",
    "print(one_edit_away('abcdeff', 'bbcdefg'))\n",
    "print('\\n')\n",
    "\n",
    "print(\"Comparing 'abcdef' to 'abcdefg'\")\n",
    "print('The second string has one extra letter')\n",
    "print('Could one edit let these strings match?')\n",
    "print(one_edit_away('abcdef', 'abcdefg'))\n",
    "print('\\n')\n",
    "\n",
    "print(\"Comparing 'abcdef' to 'abcdefgh'\")\n",
    "print('The second string has two extra letters')\n",
    "print('Could one edit let these strings match?')\n",
    "print(one_edit_away('abcdef', 'abcdefgh'))\n",
    "print('\\n')\n",
    "\n",
    "print(\"Comparing 'abcdefgh' to 'abcfgh'\")\n",
    "print('The second string is missing two letters')\n",
    "print('Could one edit let these strings match?')\n",
    "print(one_edit_away('abcdefgh', 'abcfgh'))\n",
    "print('\\n')\n",
    "\n",
    "print(\"Comparing 'taaaccooo' to 'taaacooo'\")\n",
    "print('The second string is missing one letter')\n",
    "print('Could one edit let these strings match?')\n",
    "print(one_edit_away('taaaccooo', 'taaacooo'))\n",
    "print('\\n')\n",
    "\n",
    "print(\"Comparing '' to 'a'\")\n",
    "print('The first string is empty, the second has one letter')\n",
    "print('Could one edit let these strings match?')\n",
    "print(one_edit_away('', 'a'))\n",
    "print('\\n')\n",
    "# print(one_edit_away('tacocat', 'taco cat'))\n",
    "# print(one_edit_away('taco catt', 'taco cat'))"
   ]
  },
  {
   "cell_type": "markdown",
   "metadata": {},
   "source": [
    "1.6 Implement a method to perform basic string compression using the counts of repeated characters. For example, the string \"aabcccccaaa\" would become \"a2b1c5a3\". If the \"compressed\" string would not become smaller than the original string, your method should return the original string. You can assume the string has only uppercase and lowercase letters (a-z)."
   ]
  },
  {
   "cell_type": "code",
   "execution_count": 7,
   "metadata": {},
   "outputs": [
    {
     "name": "stdout",
     "output_type": "stream",
     "text": [
      "aabbccdd\n",
      "abcdefg\n",
      "A2b1c2d1e1f3g8\n"
     ]
    }
   ],
   "source": [
    "def compress(str_):\n",
    "    new_str = ''\n",
    "    count = 0\n",
    "    for i,c in enumerate(str_):\n",
    "        count += 1\n",
    "        if (not str_[i+1:]) or (c is not str_[i+1]):\n",
    "            new_str = new_str + c\n",
    "            new_str = new_str + str(count)\n",
    "            count = 0\n",
    "        if len(new_str) >= len(str_):\n",
    "            return str_\n",
    "    return new_str\n",
    "\n",
    "print(compress('aabbccdd'))\n",
    "print(compress('abcdefg'))\n",
    "print(compress('AAbccdefffgggggggg'))"
   ]
  },
  {
   "cell_type": "markdown",
   "metadata": {},
   "source": [
    "1.7 Given an image represented by an NxN matrix, where each pixel in the image is 4 bytes, write a method to rotate the image by 90 degrees. Can you do this in place?"
   ]
  },
  {
   "cell_type": "code",
   "execution_count": 10,
   "metadata": {},
   "outputs": [
    {
     "name": "stdout",
     "output_type": "stream",
     "text": [
      "[[0, 1, 2, 3, 4, 5, 6, 7, 8, 9],\n",
      " [0, 1, 2, 3, 4, 5, 6, 7, 8, 9],\n",
      " [0, 1, 2, 3, 4, 5, 6, 7, 8, 9],\n",
      " [0, 1, 2, 3, 4, 5, 6, 7, 8, 9],\n",
      " [0, 1, 2, 3, 4, 5, 6, 7, 8, 9],\n",
      " [0, 1, 2, 3, 4, 5, 6, 7, 8, 9],\n",
      " [0, 1, 2, 3, 4, 5, 6, 7, 8, 9],\n",
      " [0, 1, 2, 3, 4, 5, 6, 7, 8, 9],\n",
      " [0, 1, 2, 3, 4, 5, 6, 7, 8, 9],\n",
      " [0, 1, 2, 3, 4, 5, 6, 7, 8, 9]]\n",
      "\n",
      "\n",
      "[[0, 0, 0, 0, 0, 0, 0, 0, 0, 0],\n",
      " [1, 1, 1, 1, 1, 1, 1, 1, 1, 1],\n",
      " [2, 2, 2, 2, 2, 2, 2, 2, 2, 2],\n",
      " [3, 3, 3, 3, 3, 3, 3, 3, 3, 3],\n",
      " [4, 4, 4, 4, 4, 4, 4, 4, 4, 4],\n",
      " [5, 5, 5, 5, 5, 5, 5, 5, 5, 5],\n",
      " [6, 6, 6, 6, 6, 6, 6, 6, 6, 6],\n",
      " [7, 7, 7, 7, 7, 7, 7, 7, 7, 7],\n",
      " [8, 8, 8, 8, 8, 8, 8, 8, 8, 8],\n",
      " [9, 9, 9, 9, 9, 9, 9, 9, 9, 9]]\n"
     ]
    }
   ],
   "source": [
    "from math import ceil\n",
    "\n",
    "matrix = [[x for x in range(10)] for _ in range(10)]\n",
    "pp.pprint(matrix)\n",
    "print('\\n')\n",
    "def rotate_clockwise(matrix):\n",
    "    for x in range(ceil(len(matrix)/2)):\n",
    "        for y in range(x, len(matrix) - x - 1):\n",
    "            matrix[y][-x-1],matrix[-x-1][-y-1],matrix[-y-1][x],matrix[x][y] = matrix[x][y],matrix[y][-x-1],matrix[-x-1][-y-1],matrix[-y-1][x]\n",
    "    return matrix\n",
    "\n",
    "pp.pprint(rotate_clockwise(matrix))"
   ]
  },
  {
   "cell_type": "markdown",
   "metadata": {},
   "source": [
    "1.8 Write an algorithm such that if an element in an MxN matrix is 0, it's entire row and column are set to 0.\n",
    "\n",
    "The required implementation of this is rather ambiguous. I'm going to do it so that the function takes in a matrix and the coordinates of the element in question."
   ]
  },
  {
   "cell_type": "code",
   "execution_count": 14,
   "metadata": {},
   "outputs": [
    {
     "name": "stdout",
     "output_type": "stream",
     "text": [
      "[[1, 1, 1, 1, 0, 1, 1, 1, 1, 1],\n",
      " [2, 2, 2, 2, 0, 2, 2, 2, 2, 2],\n",
      " [3, 3, 3, 3, 0, 3, 3, 3, 3, 3],\n",
      " [4, 4, 4, 4, 0, 4, 4, 4, 4, 4],\n",
      " [0, 0, 0, 0, 0, 0, 0, 0, 0, 0],\n",
      " [6, 6, 6, 6, 0, 6, 6, 6, 6, 6],\n",
      " [7, 7, 7, 7, 0, 7, 7, 7, 7, 7],\n",
      " [8, 8, 8, 8, 0, 8, 8, 8, 8, 8],\n",
      " [9, 9, 9, 9, 0, 9, 9, 9, 9, 9]]\n",
      "[[1, 1, 1, 1, 0, 0, 1, 1, 1, 1],\n",
      " [2, 2, 2, 2, 0, 0, 2, 2, 2, 2],\n",
      " [3, 3, 3, 3, 0, 0, 3, 3, 3, 3],\n",
      " [4, 4, 4, 4, 0, 0, 4, 4, 4, 4],\n",
      " [0, 0, 0, 0, 0, 0, 0, 0, 0, 0],\n",
      " [6, 6, 6, 6, 0, 0, 6, 6, 6, 6],\n",
      " [7, 7, 7, 7, 0, 0, 7, 7, 7, 7],\n",
      " [8, 8, 8, 8, 0, 0, 8, 8, 8, 8],\n",
      " [9, 9, 9, 9, 0, 0, 9, 9, 9, 9]]\n",
      "[[1, 1, 1, 1, 0, 0, 1, 1, 1, 1],\n",
      " [2, 2, 2, 2, 0, 0, 2, 2, 2, 2],\n",
      " [3, 3, 3, 3, 0, 0, 3, 3, 3, 3],\n",
      " [4, 4, 4, 4, 0, 0, 4, 4, 4, 4],\n",
      " [0, 0, 0, 0, 0, 0, 0, 0, 0, 0],\n",
      " [6, 6, 6, 6, 0, 0, 6, 6, 6, 6],\n",
      " [7, 7, 7, 7, 0, 0, 7, 7, 7, 7],\n",
      " [8, 8, 8, 8, 0, 0, 8, 8, 8, 8],\n",
      " [9, 9, 9, 9, 0, 0, 9, 9, 9, 9]]\n"
     ]
    }
   ],
   "source": [
    "import pprint as pp\n",
    "\n",
    "matrix = [[1, 1, 1, 1, 1, 1, 1, 1, 1, 1],\n",
    "         [2, 2, 2, 2, 2, 2, 2, 2, 2, 2],\n",
    "         [3, 3, 3, 3, 3, 3, 3, 3, 3, 3],\n",
    "         [4, 4, 4, 4, 4, 4, 4, 4, 4, 4],\n",
    "         [5, 5, 5, 5, 0, 5, 5, 5, 5, 5],\n",
    "         [6, 6, 6, 6, 6, 6, 6, 6, 6, 6],\n",
    "         [7, 7, 7, 7, 7, 7, 7, 7, 7, 7],\n",
    "         [8, 8, 8, 8, 8, 8, 8, 8, 8, 8],\n",
    "         [9, 9, 9, 9, 9, 9, 9, 9, 9, 9]]\n",
    "\n",
    "def zero_row_col(matrix, row, col):\n",
    "    if matrix[row][col] == 0:\n",
    "        for _row in matrix:\n",
    "            _row[col] = 0\n",
    "        matrix[row] = [0 for _ in range(len(matrix[row]))]\n",
    "    return matrix\n",
    "\n",
    "pp.pprint(zero_row_col(matrix, 4, 4))\n",
    "pp.pprint(zero_row_col(matrix, 4, 5))\n",
    "pp.pprint(zero_row_col(matrix, 5, 6))"
   ]
  },
  {
   "cell_type": "code",
   "execution_count": null,
   "metadata": {},
   "outputs": [],
   "source": []
  }
 ],
 "metadata": {
  "kernelspec": {
   "display_name": "Python 3",
   "language": "python",
   "name": "python3"
  },
  "language_info": {
   "codemirror_mode": {
    "name": "ipython",
    "version": 3
   },
   "file_extension": ".py",
   "mimetype": "text/x-python",
   "name": "python",
   "nbconvert_exporter": "python",
   "pygments_lexer": "ipython3",
   "version": "3.7.6"
  }
 },
 "nbformat": 4,
 "nbformat_minor": 2
}
