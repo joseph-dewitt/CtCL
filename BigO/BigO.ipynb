{
 "cells": [
  {
   "cell_type": "markdown",
   "metadata": {
    "collapsed": true
   },
   "source": [
    "VI.1 The following code computes the product of a and b. What is the runtime?"
   ]
  },
  {
   "cell_type": "code",
   "execution_count": 14,
   "metadata": {},
   "outputs": [],
   "source": [
    "def product(a, b):\n",
    "    sum = 0\n",
    "    for _ in range(b):\n",
    "        sum += a\n",
    "    return sum"
   ]
  },
  {
   "cell_type": "markdown",
   "metadata": {},
   "source": [
    "The loop will run b times, therefore it is O(b)."
   ]
  },
  {
   "cell_type": "markdown",
   "metadata": {},
   "source": [
    "VI.2 The following code computes a^b. What is its runtime?"
   ]
  },
  {
   "cell_type": "code",
   "execution_count": 15,
   "metadata": {},
   "outputs": [],
   "source": [
    "def power(a,b):\n",
    "    if b < 0:\n",
    "        return 0 #error\n",
    "    elif b == 0:\n",
    "        return 1\n",
    "    else:\n",
    "        return a * power(a, b-1)"
   ]
  },
  {
   "cell_type": "markdown",
   "metadata": {},
   "source": [
    "power() will be called b times, so the runtime is O(b). The space complexity is also O(b)."
   ]
  },
  {
   "cell_type": "markdown",
   "metadata": {},
   "source": [
    "VI.3 The following code computes a % b. What is its runtime?"
   ]
  },
  {
   "cell_type": "code",
   "execution_count": 16,
   "metadata": {},
   "outputs": [],
   "source": [
    "def mod(a, b):\n",
    "    if b <= 0:\n",
    "        return -1\n",
    "    div = int(a / b)\n",
    "    return a - div * b"
   ]
  },
  {
   "cell_type": "markdown",
   "metadata": {},
   "source": [
    "Each line of this function will only at most run once, therefore it is O(1)."
   ]
  },
  {
   "cell_type": "markdown",
   "metadata": {},
   "source": [
    "VI.4 The following code performs integer division. What is its runtime? (Assume a and b are both positive.)"
   ]
  },
  {
   "cell_type": "code",
   "execution_count": 17,
   "metadata": {},
   "outputs": [],
   "source": [
    "def div(a, b):\n",
    "    count = 0\n",
    "    sum = b\n",
    "    while(sum <= a):\n",
    "        sum += b\n",
    "        count += 1\n",
    "    return count"
   ]
  },
  {
   "cell_type": "markdown",
   "metadata": {},
   "source": [
    "The simplest way to consider the runtime is the fact that whatever value is returned is the number of times the loop was iterated over, therefore the runtime is O(a/b)."
   ]
  },
  {
   "cell_type": "markdown",
   "metadata": {},
   "source": [
    "VI.5 The following code computes the [integer] square root of a number. If the number is not a perfect square (there is no integer square root), then it return -1. It does this by successive guessing. If n is 100, it first guesses 50. Too high? Try something lower - halfway between 1 and 50. What is its runtime?"
   ]
  },
  {
   "cell_type": "code",
   "execution_count": 18,
   "metadata": {},
   "outputs": [
    {
     "name": "stdout",
     "output_type": "stream",
     "text": [
      "12\n"
     ]
    }
   ],
   "source": [
    "def sqrt(n):\n",
    "    return sqrt_helper(n, 1, n)\n",
    "\n",
    "def sqrt_helper(n, min, max):\n",
    "    if max < min:\n",
    "        return -1 #no square root\n",
    "    guess = int((min + max) / 2)\n",
    "    if guess * guess == n: #found it!\n",
    "        return guess\n",
    "    elif guess * guess < n: #too low\n",
    "        return sqrt_helper(n, guess+1, max) #try higher\n",
    "    else: #too high\n",
    "        return sqrt_helper(n, min, guess-1) #try lower\n",
    "\n",
    "print(sqrt(144))"
   ]
  },
  {
   "cell_type": "markdown",
   "metadata": {},
   "source": [
    "This algorithm works by dividing the input in half every time until it finds the results or runs out of possible options, like a binary search. Therefore the runtime of this algorithm is O(logn)."
   ]
  },
  {
   "cell_type": "markdown",
   "metadata": {},
   "source": [
    "VI.6 The following code computes the [integer] square root of a number. If the number is not a perfect square (there is no integer square root), then it return -1. It does this by trying increasingly large numbers until it find the right value (or is too high). What is its runtime?"
   ]
  },
  {
   "cell_type": "code",
   "execution_count": 19,
   "metadata": {},
   "outputs": [
    {
     "name": "stdout",
     "output_type": "stream",
     "text": [
      "13\n"
     ]
    }
   ],
   "source": [
    "def sqrt(n):\n",
    "    guess = 0\n",
    "    while(guess * guess <= n):\n",
    "        guess += 1\n",
    "        if guess * guess == n:\n",
    "            return guess\n",
    "    return -1\n",
    "\n",
    "print(sqrt(169))"
   ]
  },
  {
   "cell_type": "markdown",
   "metadata": {},
   "source": [
    "The loop  will increment guess until the guess reaches the integer square root or the square of guess surpasses n. Therefore the runtime is O(n^1/2)."
   ]
  },
  {
   "cell_type": "markdown",
   "metadata": {},
   "source": [
    "VI.7 If a binary search tree is not balanced, how long might it take (worst case) to find an element in it?\n",
    "\n",
    "Given an unbalanced binary search tree, the worst case would be if all the nodes were on only the left or only the right branches (this is called a depth tree). This could lead to a lookup time of O(n), as opposed to O(logn) for a balanced binary search tree.\n",
    "\n",
    "VI.8 You are looking for a specific value in a binary tree, but the tree is not a binary search tree. What is the time complexity of this?\n",
    "\n",
    "If it is not a binary SEARCH tree, then there are no rules about left nodes being less than and right nodes being greater than their parents, and as such it is not sorted. Therefore the lookup time would be O(n), due to having to search through all the nodes.\n",
    "\n",
    "VI.9 The appendToNew method appends a value to an array by creating a new, longer array and returning this longer array. You've used the appendToNew method to create a copyArray function that repeatedly calls appendToNew. How long does copying an array take?"
   ]
  },
  {
   "cell_type": "code",
   "execution_count": null,
   "metadata": {},
   "outputs": [],
   "source": [
    "def copyArray(arr):\n",
    "    copy = []\n",
    "    for value in arr:\n",
    "        copy = appendToNew(copy, value)\n",
    "    return copy\n",
    "\n",
    "def appendToNew(arr, value):\n",
    "    bigger = [0] * (len(arr) + 1)\n",
    "    for i in range(len(arr)):\n",
    "        bigger[i] = arr[i]\n",
    "    bigger[-1] = value\n",
    "    return bigger"
   ]
  },
  {
   "cell_type": "markdown",
   "metadata": {},
   "source": [
    "If you were to try copying an array using these functions, it would loop over appendToNew for every element in the array, and within there it would also loop over every element in the array. The runtime would be O(n^2)\n",
    "\n",
    "Side note, this might be the silliest mechanism I've ever seen."
   ]
  },
  {
   "cell_type": "markdown",
   "metadata": {},
   "source": [
    "VI.10 The following code sums the digits in a number. What is its big O time?"
   ]
  },
  {
   "cell_type": "code",
   "execution_count": 21,
   "metadata": {},
   "outputs": [
    {
     "name": "stdout",
     "output_type": "stream",
     "text": [
      "18\n"
     ]
    }
   ],
   "source": [
    "def sumDigits(n):\n",
    "    sum = 0\n",
    "    while(n > 0):\n",
    "        sum += n % 10\n",
    "        n = int(n/10)\n",
    "    return sum\n",
    "print(sumDigits(3456))"
   ]
  },
  {
   "cell_type": "markdown",
   "metadata": {},
   "source": [
    "Similar to a search algorithm having to loop as many times as the input can be divided by 2, this algorithm runs as many times as the input can be divided by 10. Therefore, the runtime is O(log base10 N)."
   ]
  },
  {
   "cell_type": "markdown",
   "metadata": {},
   "source": [
    "VI.11 The following code prints all strings of length k where the characters are in sorted order. It does this by generating all strings of length k and then checking if each is sorted. What is its runtime?"
   ]
  },
  {
   "cell_type": "code",
   "execution_count": 31,
   "metadata": {},
   "outputs": [
    {
     "name": "stdout",
     "output_type": "stream",
     "text": [
      "aa\n",
      "ab\n",
      "ac\n",
      "ad\n",
      "ae\n",
      "af\n",
      "ag\n",
      "ah\n",
      "ai\n",
      "aj\n",
      "ak\n",
      "al\n",
      "am\n",
      "an\n",
      "ao\n",
      "ap\n",
      "aq\n",
      "ar\n",
      "as\n",
      "at\n",
      "au\n",
      "av\n",
      "aw\n",
      "ax\n",
      "ay\n",
      "az\n",
      "bb\n",
      "bc\n",
      "bd\n",
      "be\n",
      "bf\n",
      "bg\n",
      "bh\n",
      "bi\n",
      "bj\n",
      "bk\n",
      "bl\n",
      "bm\n",
      "bn\n",
      "bo\n",
      "bp\n",
      "bq\n",
      "br\n",
      "bs\n",
      "bt\n",
      "bu\n",
      "bv\n",
      "bw\n",
      "bx\n",
      "by\n",
      "bz\n",
      "cc\n",
      "cd\n",
      "ce\n",
      "cf\n",
      "cg\n",
      "ch\n",
      "ci\n",
      "cj\n",
      "ck\n",
      "cl\n",
      "cm\n",
      "cn\n",
      "co\n",
      "cp\n",
      "cq\n",
      "cr\n",
      "cs\n",
      "ct\n",
      "cu\n",
      "cv\n",
      "cw\n",
      "cx\n",
      "cy\n",
      "cz\n",
      "dd\n",
      "de\n",
      "df\n",
      "dg\n",
      "dh\n",
      "di\n",
      "dj\n",
      "dk\n",
      "dl\n",
      "dm\n",
      "dn\n",
      "do\n",
      "dp\n",
      "dq\n",
      "dr\n",
      "ds\n",
      "dt\n",
      "du\n",
      "dv\n",
      "dw\n",
      "dx\n",
      "dy\n",
      "dz\n",
      "ee\n",
      "ef\n",
      "eg\n",
      "eh\n",
      "ei\n",
      "ej\n",
      "ek\n",
      "el\n",
      "em\n",
      "en\n",
      "eo\n",
      "ep\n",
      "eq\n",
      "er\n",
      "es\n",
      "et\n",
      "eu\n",
      "ev\n",
      "ew\n",
      "ex\n",
      "ey\n",
      "ez\n",
      "ff\n",
      "fg\n",
      "fh\n",
      "fi\n",
      "fj\n",
      "fk\n",
      "fl\n",
      "fm\n",
      "fn\n",
      "fo\n",
      "fp\n",
      "fq\n",
      "fr\n",
      "fs\n",
      "ft\n",
      "fu\n",
      "fv\n",
      "fw\n",
      "fx\n",
      "fy\n",
      "fz\n",
      "gg\n",
      "gh\n",
      "gi\n",
      "gj\n",
      "gk\n",
      "gl\n",
      "gm\n",
      "gn\n",
      "go\n",
      "gp\n",
      "gq\n",
      "gr\n",
      "gs\n",
      "gt\n",
      "gu\n",
      "gv\n",
      "gw\n",
      "gx\n",
      "gy\n",
      "gz\n",
      "hh\n",
      "hi\n",
      "hj\n",
      "hk\n",
      "hl\n",
      "hm\n",
      "hn\n",
      "ho\n",
      "hp\n",
      "hq\n",
      "hr\n",
      "hs\n",
      "ht\n",
      "hu\n",
      "hv\n",
      "hw\n",
      "hx\n",
      "hy\n",
      "hz\n",
      "ii\n",
      "ij\n",
      "ik\n",
      "il\n",
      "im\n",
      "in\n",
      "io\n",
      "ip\n",
      "iq\n",
      "ir\n",
      "is\n",
      "it\n",
      "iu\n",
      "iv\n",
      "iw\n",
      "ix\n",
      "iy\n",
      "iz\n",
      "jj\n",
      "jk\n",
      "jl\n",
      "jm\n",
      "jn\n",
      "jo\n",
      "jp\n",
      "jq\n",
      "jr\n",
      "js\n",
      "jt\n",
      "ju\n",
      "jv\n",
      "jw\n",
      "jx\n",
      "jy\n",
      "jz\n",
      "kk\n",
      "kl\n",
      "km\n",
      "kn\n",
      "ko\n",
      "kp\n",
      "kq\n",
      "kr\n",
      "ks\n",
      "kt\n",
      "ku\n",
      "kv\n",
      "kw\n",
      "kx\n",
      "ky\n",
      "kz\n",
      "ll\n",
      "lm\n",
      "ln\n",
      "lo\n",
      "lp\n",
      "lq\n",
      "lr\n",
      "ls\n",
      "lt\n",
      "lu\n",
      "lv\n",
      "lw\n",
      "lx\n",
      "ly\n",
      "lz\n",
      "mm\n",
      "mn\n",
      "mo\n",
      "mp\n",
      "mq\n",
      "mr\n",
      "ms\n",
      "mt\n",
      "mu\n",
      "mv\n",
      "mw\n",
      "mx\n",
      "my\n",
      "mz\n",
      "nn\n",
      "no\n",
      "np\n",
      "nq\n",
      "nr\n",
      "ns\n",
      "nt\n",
      "nu\n",
      "nv\n",
      "nw\n",
      "nx\n",
      "ny\n",
      "nz\n",
      "oo\n",
      "op\n",
      "oq\n",
      "or\n",
      "os\n",
      "ot\n",
      "ou\n",
      "ov\n",
      "ow\n",
      "ox\n",
      "oy\n",
      "oz\n",
      "pp\n",
      "pq\n",
      "pr\n",
      "ps\n",
      "pt\n",
      "pu\n",
      "pv\n",
      "pw\n",
      "px\n",
      "py\n",
      "pz\n",
      "qq\n",
      "qr\n",
      "qs\n",
      "qt\n",
      "qu\n",
      "qv\n",
      "qw\n",
      "qx\n",
      "qy\n",
      "qz\n",
      "rr\n",
      "rs\n",
      "rt\n",
      "ru\n",
      "rv\n",
      "rw\n",
      "rx\n",
      "ry\n",
      "rz\n",
      "ss\n",
      "st\n",
      "su\n",
      "sv\n",
      "sw\n",
      "sx\n",
      "sy\n",
      "sz\n",
      "tt\n",
      "tu\n",
      "tv\n",
      "tw\n",
      "tx\n",
      "ty\n",
      "tz\n",
      "uu\n",
      "uv\n",
      "uw\n",
      "ux\n",
      "uy\n",
      "uz\n",
      "vv\n",
      "vw\n",
      "vx\n",
      "vy\n",
      "vz\n",
      "ww\n",
      "wx\n",
      "wy\n",
      "wz\n",
      "xx\n",
      "xy\n",
      "xz\n",
      "yy\n",
      "yz\n",
      "zz\n"
     ]
    }
   ],
   "source": [
    "numChars = 26\n",
    "\n",
    "def printSortedStrings(remaining, prefix=''):\n",
    "    if remaining == 0:\n",
    "        if isInOrder(prefix):\n",
    "            print(prefix)\n",
    "    else:\n",
    "        for i in range(numChars):\n",
    "            c = ithLetter(i)\n",
    "            printSortedStrings(remaining - 1, prefix = prefix + c)\n",
    "\n",
    "def isInOrder(s):\n",
    "    for i in range(1,len(s)):\n",
    "        prev = ithLetter(ord(s[i-1]))\n",
    "        curr = ithLetter(ord(s[i]))\n",
    "        if prev > curr:\n",
    "            return False\n",
    "    return True\n",
    "\n",
    "def ithLetter(i):\n",
    "    return chr(ord('a') + i)\n",
    "\n",
    "printSortedStrings(2)"
   ]
  },
  {
   "cell_type": "markdown",
   "metadata": {},
   "source": [
    "printSortedStrings will call itself for every permutation of C number of lower case letters of a length of S. This would be C^S calls. Then for each permutation, isInOrder will be loop over each character in the string. Therefore the runtime is O(S*C^S)"
   ]
  },
  {
   "cell_type": "markdown",
   "metadata": {},
   "source": [
    "VI.12 The following code computes the intersection (the number of elements in common) of two arrays. It assumes that neither array has duplicates. It computes the intersection by sorting one array (array b) and then iterating through array a checking (via binary search) if each value is in b. What is its runtime?"
   ]
  },
  {
   "cell_type": "code",
   "execution_count": null,
   "metadata": {},
   "outputs": [],
   "source": [
    "def intersection (a, b):\n",
    "    mergesort(b)\n",
    "    intersect = 0\n",
    "    \n",
    "    for x in a:\n",
    "        if binary_search(b, x) >= 0:\n",
    "            intersect++\n",
    "    \n",
    "    return intersect"
   ]
  },
  {
   "cell_type": "markdown",
   "metadata": {},
   "source": [
    "The runtime of this function is the combination of running mergesort with an input of size b which is O(b\\*log b), and running binary search a times on an array of size b, which is O(a\\* log b). Therefore the runtime is O(a\\*log b + b\\*log b)."
   ]
  },
  {
   "cell_type": "code",
   "execution_count": null,
   "metadata": {},
   "outputs": [],
   "source": []
  }
 ],
 "metadata": {
  "kernelspec": {
   "display_name": "Python 3",
   "language": "python",
   "name": "python3"
  },
  "language_info": {
   "codemirror_mode": {
    "name": "ipython",
    "version": 3
   },
   "file_extension": ".py",
   "mimetype": "text/x-python",
   "name": "python",
   "nbconvert_exporter": "python",
   "pygments_lexer": "ipython3",
   "version": "3.7.6"
  }
 },
 "nbformat": 4,
 "nbformat_minor": 2
}
